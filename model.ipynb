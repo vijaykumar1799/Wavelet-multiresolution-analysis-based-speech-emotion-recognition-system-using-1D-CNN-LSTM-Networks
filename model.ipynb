{
 "cells": [
  {
   "cell_type": "code",
   "execution_count": 1,
   "metadata": {},
   "outputs": [
    {
     "name": "stderr",
     "output_type": "stream",
     "text": [
      "Using TensorFlow backend.\n"
     ]
    }
   ],
   "source": [
    "import os\n",
    "import numpy as np\n",
    "import matplotlib.pyplot as plt\n",
    "\n",
    "from sklearn.model_selection import StratifiedKFold\n",
    "from sklearn.metrics import confusion_matrix, classification_report\n",
    "from sklearn.preprocessing import MinMaxScaler, StandardScaler\n",
    "from sklearn.model_selection import train_test_split\n",
    "import seaborn as sns\n",
    "\n",
    "from random import seed, random, randint, sample\n",
    "\n",
    "from keras.models import Model, save_model, load_model\n",
    "from keras.layers import Input, Dense, BatchNormalization, TimeDistributed, ELU\n",
    "from keras.optimizers import Adam, SGD\n",
    "from keras import backend as K\n",
    "from keras.utils import to_categorical\n",
    "\n",
    "import pickle as pkl\n",
    "\n",
    "%matplotlib inline"
   ]
  },
  {
   "cell_type": "code",
   "execution_count": 2,
   "metadata": {},
   "outputs": [],
   "source": [
    "def r_squared(y_true, y_pred):\n",
    "    SS_res =  K.sum(K.square(y_true - y_pred)) \n",
    "    SS_tot = K.sum(K.square(y_true - K.mean(y_true)))\n",
    "    return 1 - SS_res/(SS_tot + K.epsilon())"
   ]
  },
  {
   "cell_type": "code",
   "execution_count": 3,
   "metadata": {},
   "outputs": [
    {
     "name": "stdout",
     "output_type": "stream",
     "text": [
      "Model: \"model_1\"\n",
      "_________________________________________________________________\n",
      "Layer (type)                 Output Shape              Param #   \n",
      "=================================================================\n",
      "input_1 (InputLayer)         (None, 4000, 125)         0         \n",
      "_________________________________________________________________\n",
      "time_distributed_1 (TimeDist (None, 4000, 64)          8064      \n",
      "_________________________________________________________________\n",
      "time_distributed_2 (TimeDist (None, 4000, 64)          256       \n",
      "_________________________________________________________________\n",
      "time_distributed_3 (TimeDist (None, 4000, 64)          0         \n",
      "_________________________________________________________________\n",
      "time_distributed_4 (TimeDist (None, 4000, 16)          1040      \n",
      "_________________________________________________________________\n",
      "time_distributed_5 (TimeDist (None, 4000, 16)          64        \n",
      "_________________________________________________________________\n",
      "time_distributed_6 (TimeDist (None, 4000, 16)          0         \n",
      "_________________________________________________________________\n",
      "time_distributed_7 (TimeDist (None, 4000, 16)          272       \n",
      "_________________________________________________________________\n",
      "time_distributed_8 (TimeDist (None, 4000, 16)          64        \n",
      "_________________________________________________________________\n",
      "time_distributed_9 (TimeDist (None, 4000, 16)          0         \n",
      "_________________________________________________________________\n",
      "time_distributed_10 (TimeDis (None, 4000, 8)           136       \n",
      "_________________________________________________________________\n",
      "time_distributed_11 (TimeDis (None, 4000, 8)           32        \n",
      "_________________________________________________________________\n",
      "latent_space_out (TimeDistri (None, 4000, 8)           0         \n",
      "_________________________________________________________________\n",
      "time_distributed_12 (TimeDis (None, 4000, 16)          144       \n",
      "_________________________________________________________________\n",
      "time_distributed_13 (TimeDis (None, 4000, 16)          64        \n",
      "_________________________________________________________________\n",
      "time_distributed_14 (TimeDis (None, 4000, 16)          0         \n",
      "_________________________________________________________________\n",
      "time_distributed_15 (TimeDis (None, 4000, 32)          544       \n",
      "_________________________________________________________________\n",
      "time_distributed_16 (TimeDis (None, 4000, 32)          128       \n",
      "_________________________________________________________________\n",
      "time_distributed_17 (TimeDis (None, 4000, 32)          0         \n",
      "_________________________________________________________________\n",
      "time_distributed_18 (TimeDis (None, 4000, 64)          2112      \n",
      "_________________________________________________________________\n",
      "time_distributed_19 (TimeDis (None, 4000, 64)          256       \n",
      "_________________________________________________________________\n",
      "time_distributed_20 (TimeDis (None, 4000, 64)          0         \n",
      "_________________________________________________________________\n",
      "time_distributed_21 (TimeDis (None, 4000, 125)         8125      \n",
      "=================================================================\n",
      "Total params: 21,301\n",
      "Trainable params: 20,869\n",
      "Non-trainable params: 432\n",
      "_________________________________________________________________\n"
     ]
    }
   ],
   "source": [
    "# Input layer\n",
    "input_layer = Input(shape=(4000, 125))\n",
    "\n",
    "# Encoder\n",
    "encoder_layer_1 = TimeDistributed(Dense(64))(input_layer)\n",
    "encoder_layer_1 = TimeDistributed(BatchNormalization())(encoder_layer_1)\n",
    "encoder_layer_1 = TimeDistributed(ELU())(encoder_layer_1)\n",
    "\n",
    "encoder_layer_2 = TimeDistributed(Dense(16))(encoder_layer_1)\n",
    "encoder_layer_2 = TimeDistributed(BatchNormalization())(encoder_layer_2)\n",
    "encoder_layer_2 = TimeDistributed(ELU())(encoder_layer_2)\n",
    "\n",
    "encoder_layer_3 = TimeDistributed(Dense(16))(encoder_layer_2)\n",
    "encoder_layer_3 = TimeDistributed(BatchNormalization())(encoder_layer_3)\n",
    "encoder_layer_3 = TimeDistributed(ELU())(encoder_layer_3)\n",
    "\n",
    "# Latent Space\n",
    "latent_space = TimeDistributed(Dense(8))(encoder_layer_3)\n",
    "latent_space = TimeDistributed(BatchNormalization())(latent_space)\n",
    "latent_space = TimeDistributed(ELU(), name=\"latent_space_out\")(latent_space)\n",
    "\n",
    "# Decoder\n",
    "decoder_layer_1 = TimeDistributed(Dense(16))(latent_space)\n",
    "decoder_layer_1 = TimeDistributed(BatchNormalization())(decoder_layer_1)\n",
    "decoder_layer_1 = TimeDistributed(ELU())(decoder_layer_1)\n",
    "\n",
    "decoder_layer_2 = TimeDistributed(Dense(32))(decoder_layer_1)\n",
    "decoder_layer_2 = TimeDistributed(BatchNormalization())(decoder_layer_2)\n",
    "decoder_layer_2 = TimeDistributed(ELU())(decoder_layer_2)\n",
    "\n",
    "decoder_layer_3 = TimeDistributed(Dense(64))(decoder_layer_2)\n",
    "decoder_layer_3 = TimeDistributed(BatchNormalization())(decoder_layer_3)\n",
    "decoder_layer_3 = TimeDistributed(ELU())(decoder_layer_3)\n",
    "\n",
    "# Output layer\n",
    "output_layer = TimeDistributed(Dense(125))(decoder_layer_3)\n",
    "\n",
    "# Autoencoder Model\n",
    "autoencoder = Model(inputs=input_layer, outputs=output_layer)\n",
    "\n",
    "# Display the model summary\n",
    "autoencoder.summary()\n"
   ]
  },
  {
   "cell_type": "code",
   "execution_count": 4,
   "metadata": {},
   "outputs": [],
   "source": [
    "autoencoder.compile(optimizer=Adam(lr=0.001), loss='mean_squared_error', metrics=[r_squared])"
   ]
  },
  {
   "cell_type": "code",
   "execution_count": 5,
   "metadata": {},
   "outputs": [],
   "source": [
    "training_data = np.load('training_features.npz')\n",
    "validation_data = np.load('validation_features.npz')\n",
    "testing_data = np.load('testing_features.npz')"
   ]
  },
  {
   "cell_type": "code",
   "execution_count": 6,
   "metadata": {},
   "outputs": [],
   "source": [
    "x_train, y_train = training_data['a'], training_data['b']\n",
    "x_val, y_val = validation_data['a'], validation_data['b']\n",
    "x_test, y_test = testing_data['a'], testing_data['b']"
   ]
  },
  {
   "cell_type": "code",
   "execution_count": 7,
   "metadata": {},
   "outputs": [],
   "source": [
    "x_test = np.concatenate((x_val, x_test), axis=0)\n",
    "y_test = np.concatenate((y_val, y_test), axis=0)"
   ]
  },
  {
   "cell_type": "code",
   "execution_count": 8,
   "metadata": {},
   "outputs": [
    {
     "name": "stdout",
     "output_type": "stream",
     "text": [
      "Training-> (930, 4000, 125),  (930, 1)\n",
      "Testing-> (348, 4000, 125),  (348, 1)\n"
     ]
    }
   ],
   "source": [
    "print(f\"Training-> {x_train.shape},  {y_train.shape}\")\n",
    "#print(f\"Validation-> {x_val.shape},  {y_val.shape}\")\n",
    "print(f\"Testing-> {x_test.shape},  {y_test.shape}\")"
   ]
  },
  {
   "cell_type": "code",
   "execution_count": 9,
   "metadata": {},
   "outputs": [],
   "source": [
    "# label shape formatting \n",
    "labels = ['neutral', 'calm', 'happy', 'sad', 'angry', 'fearful', 'disgust', 'surprised']\n",
    "num_classes = len(labels)\n",
    "y_train = to_categorical(y_train, num_classes)\n",
    "#y_val = to_categorical(y_val, num_classes)\n",
    "y_test = to_categorical(y_test, num_classes)"
   ]
  },
  {
   "cell_type": "code",
   "execution_count": 10,
   "metadata": {},
   "outputs": [
    {
     "name": "stdout",
     "output_type": "stream",
     "text": [
      "Training hot label-> (930, 8)\n",
      "Testing hot label-> (348, 8)\n"
     ]
    }
   ],
   "source": [
    "print(f\"Training hot label-> {y_train.shape}\")\n",
    "#print(f\"Validation hot label-> {y_val.shape}\")\n",
    "print(f\"Testing hot label-> {y_test.shape}\")"
   ]
  },
  {
   "cell_type": "code",
   "execution_count": 11,
   "metadata": {},
   "outputs": [
    {
     "name": "stdout",
     "output_type": "stream",
     "text": [
      "Train on 930 samples, validate on 348 samples\n",
      "Epoch 1/50\n",
      "930/930 [==============================] - 15s 16ms/step - loss: 8.6518 - r_squared: -0.0101 - val_loss: 8.7950 - val_r_squared: 0.0156\n",
      "Epoch 2/50\n",
      "930/930 [==============================] - 12s 13ms/step - loss: 7.9575 - r_squared: 0.0676 - val_loss: 8.4259 - val_r_squared: 0.0571\n",
      "Epoch 3/50\n",
      "930/930 [==============================] - 10s 11ms/step - loss: 7.3415 - r_squared: 0.1429 - val_loss: 7.9620 - val_r_squared: 0.1092\n",
      "Epoch 4/50\n",
      "930/930 [==============================] - 10s 11ms/step - loss: 6.7264 - r_squared: 0.2154 - val_loss: 7.4775 - val_r_squared: 0.1635\n",
      "Epoch 5/50\n",
      "930/930 [==============================] - 11s 12ms/step - loss: 6.1493 - r_squared: 0.2783 - val_loss: 6.9563 - val_r_squared: 0.2219\n",
      "Epoch 6/50\n",
      "930/930 [==============================] - 11s 12ms/step - loss: 5.5722 - r_squared: 0.3509 - val_loss: 6.4554 - val_r_squared: 0.2781\n",
      "Epoch 7/50\n",
      "930/930 [==============================] - 11s 12ms/step - loss: 5.0201 - r_squared: 0.4192 - val_loss: 6.0096 - val_r_squared: 0.3280\n",
      "Epoch 8/50\n",
      "930/930 [==============================] - 11s 12ms/step - loss: 4.5041 - r_squared: 0.4724 - val_loss: 5.5924 - val_r_squared: 0.3746\n",
      "Epoch 9/50\n",
      "930/930 [==============================] - 11s 12ms/step - loss: 4.0592 - r_squared: 0.5235 - val_loss: 5.1830 - val_r_squared: 0.4202\n",
      "Epoch 10/50\n",
      "930/930 [==============================] - 10s 11ms/step - loss: 3.6620 - r_squared: 0.5719 - val_loss: 4.8580 - val_r_squared: 0.4562\n",
      "Epoch 11/50\n",
      "930/930 [==============================] - 10s 11ms/step - loss: 3.3770 - r_squared: 0.6049 - val_loss: 4.4596 - val_r_squared: 0.5005\n",
      "Epoch 12/50\n",
      "930/930 [==============================] - 10s 11ms/step - loss: 3.1355 - r_squared: 0.6085 - val_loss: 4.1053 - val_r_squared: 0.5401\n",
      "Epoch 13/50\n",
      "930/930 [==============================] - 10s 11ms/step - loss: 2.8476 - r_squared: 0.6662 - val_loss: 3.8139 - val_r_squared: 0.5726\n",
      "Epoch 14/50\n",
      "930/930 [==============================] - 10s 11ms/step - loss: 2.6413 - r_squared: 0.6956 - val_loss: 3.5825 - val_r_squared: 0.5984\n",
      "Epoch 15/50\n",
      "930/930 [==============================] - 10s 11ms/step - loss: 2.4631 - r_squared: 0.7101 - val_loss: 3.3177 - val_r_squared: 0.6280\n",
      "Epoch 16/50\n",
      "930/930 [==============================] - 10s 11ms/step - loss: 2.3242 - r_squared: 0.7171 - val_loss: 3.0590 - val_r_squared: 0.6569\n",
      "Epoch 17/50\n",
      "930/930 [==============================] - 10s 11ms/step - loss: 2.2184 - r_squared: 0.7381 - val_loss: 2.8460 - val_r_squared: 0.6807\n",
      "Epoch 18/50\n",
      "930/930 [==============================] - 11s 12ms/step - loss: 2.1757 - r_squared: 0.7463 - val_loss: 2.6811 - val_r_squared: 0.6991\n",
      "Epoch 19/50\n",
      "930/930 [==============================] - 10s 11ms/step - loss: 2.0907 - r_squared: 0.7567 - val_loss: 2.5705 - val_r_squared: 0.7114\n",
      "Epoch 20/50\n",
      "930/930 [==============================] - 10s 11ms/step - loss: 2.0170 - r_squared: 0.7688 - val_loss: 2.4800 - val_r_squared: 0.7215\n",
      "Epoch 21/50\n",
      "930/930 [==============================] - 11s 11ms/step - loss: 1.9421 - r_squared: 0.7748 - val_loss: 2.3994 - val_r_squared: 0.7305\n",
      "Epoch 22/50\n",
      "930/930 [==============================] - 11s 11ms/step - loss: 1.9053 - r_squared: 0.7752 - val_loss: 2.3502 - val_r_squared: 0.7360\n",
      "Epoch 23/50\n",
      "930/930 [==============================] - 10s 11ms/step - loss: 1.9259 - r_squared: 0.7565 - val_loss: 2.3314 - val_r_squared: 0.7382\n",
      "Epoch 24/50\n",
      "930/930 [==============================] - 10s 11ms/step - loss: 1.8225 - r_squared: 0.7846 - val_loss: 2.2377 - val_r_squared: 0.7486\n",
      "Epoch 25/50\n",
      "930/930 [==============================] - 11s 12ms/step - loss: 1.8106 - r_squared: 0.7875 - val_loss: 2.2290 - val_r_squared: 0.7496\n",
      "Epoch 26/50\n",
      "930/930 [==============================] - 13s 14ms/step - loss: 1.8051 - r_squared: 0.7856 - val_loss: 2.1559 - val_r_squared: 0.7578\n",
      "Epoch 27/50\n",
      "930/930 [==============================] - 12s 12ms/step - loss: 1.7274 - r_squared: 0.7894 - val_loss: 2.1530 - val_r_squared: 0.7581\n",
      "Epoch 28/50\n",
      "930/930 [==============================] - 12s 13ms/step - loss: 1.7032 - r_squared: 0.7892 - val_loss: 2.1024 - val_r_squared: 0.7637\n",
      "Epoch 29/50\n",
      "930/930 [==============================] - 10s 11ms/step - loss: 1.6714 - r_squared: 0.7942 - val_loss: 2.0551 - val_r_squared: 0.7690\n",
      "Epoch 30/50\n",
      "930/930 [==============================] - 9s 10ms/step - loss: 1.6362 - r_squared: 0.8070 - val_loss: 2.0526 - val_r_squared: 0.7693\n",
      "Epoch 31/50\n",
      "930/930 [==============================] - 9s 10ms/step - loss: 1.5893 - r_squared: 0.8058 - val_loss: 2.0306 - val_r_squared: 0.7717\n",
      "Epoch 32/50\n",
      "930/930 [==============================] - 9s 10ms/step - loss: 1.5435 - r_squared: 0.8180 - val_loss: 2.0185 - val_r_squared: 0.7731\n",
      "Epoch 33/50\n",
      "930/930 [==============================] - 9s 10ms/step - loss: 1.5016 - r_squared: 0.8215 - val_loss: 1.9672 - val_r_squared: 0.7788\n",
      "Epoch 34/50\n",
      "930/930 [==============================] - 9s 10ms/step - loss: 1.4998 - r_squared: 0.8216 - val_loss: 1.9234 - val_r_squared: 0.7837\n",
      "Epoch 35/50\n",
      "930/930 [==============================] - 9s 10ms/step - loss: 1.4264 - r_squared: 0.8327 - val_loss: 1.9186 - val_r_squared: 0.7842\n",
      "Epoch 36/50\n",
      "930/930 [==============================] - 9s 10ms/step - loss: 1.3779 - r_squared: 0.8388 - val_loss: 1.8638 - val_r_squared: 0.7903\n",
      "Epoch 37/50\n",
      "930/930 [==============================] - 9s 10ms/step - loss: 1.3720 - r_squared: 0.8347 - val_loss: 1.8701 - val_r_squared: 0.7896\n",
      "Epoch 38/50\n",
      "930/930 [==============================] - 9s 10ms/step - loss: 1.3539 - r_squared: 0.8395 - val_loss: 1.8397 - val_r_squared: 0.7930\n",
      "Epoch 39/50\n",
      "930/930 [==============================] - 9s 10ms/step - loss: 1.3455 - r_squared: 0.8251 - val_loss: 1.8412 - val_r_squared: 0.7928\n",
      "Epoch 40/50\n",
      "930/930 [==============================] - 9s 10ms/step - loss: 1.2905 - r_squared: 0.8492 - val_loss: 1.7876 - val_r_squared: 0.7989\n",
      "Epoch 41/50\n",
      "930/930 [==============================] - 9s 10ms/step - loss: 1.2995 - r_squared: 0.8442 - val_loss: 1.8140 - val_r_squared: 0.7958\n",
      "Epoch 42/50\n",
      "930/930 [==============================] - 9s 10ms/step - loss: 1.3125 - r_squared: 0.8418 - val_loss: 1.7319 - val_r_squared: 0.8050\n",
      "Epoch 43/50\n",
      "930/930 [==============================] - 9s 10ms/step - loss: 1.2973 - r_squared: 0.8457 - val_loss: 1.7962 - val_r_squared: 0.7978\n",
      "Epoch 44/50\n",
      "930/930 [==============================] - 9s 10ms/step - loss: 1.2433 - r_squared: 0.8524 - val_loss: 1.7115 - val_r_squared: 0.8073\n",
      "Epoch 45/50\n",
      "930/930 [==============================] - 9s 10ms/step - loss: 1.2464 - r_squared: 0.8541 - val_loss: 1.7333 - val_r_squared: 0.8048\n",
      "Epoch 46/50\n",
      "930/930 [==============================] - 10s 10ms/step - loss: 1.2850 - r_squared: 0.8467 - val_loss: 1.7060 - val_r_squared: 0.8079\n",
      "Epoch 47/50\n",
      "930/930 [==============================] - 10s 11ms/step - loss: 1.2821 - r_squared: 0.8390 - val_loss: 1.6562 - val_r_squared: 0.8135\n",
      "Epoch 48/50\n",
      "930/930 [==============================] - 10s 11ms/step - loss: 1.2534 - r_squared: 0.8467 - val_loss: 1.6468 - val_r_squared: 0.8145\n",
      "Epoch 49/50\n",
      "930/930 [==============================] - 10s 11ms/step - loss: 1.2025 - r_squared: 0.8604 - val_loss: 1.6137 - val_r_squared: 0.8183\n",
      "Epoch 50/50\n",
      "930/930 [==============================] - 10s 11ms/step - loss: 1.2298 - r_squared: 0.8512 - val_loss: 1.6068 - val_r_squared: 0.8191\n"
     ]
    }
   ],
   "source": [
    "history1 = autoencoder.fit(x_train, x_train, epochs=50, batch_size=128, shuffle=True, validation_data=(x_test, x_test))"
   ]
  },
  {
   "cell_type": "code",
   "execution_count": 12,
   "metadata": {},
   "outputs": [],
   "source": [
    "with open('./autoencoder_history.pkl', 'wb') as file:\n",
    "    pkl.dump(history1.history, file)"
   ]
  },
  {
   "cell_type": "code",
   "execution_count": 45,
   "metadata": {},
   "outputs": [
    {
     "name": "stdout",
     "output_type": "stream",
     "text": [
      "ERROR! Session/line number was not unique in database. History logging moved to new session 552\n"
     ]
    }
   ],
   "source": [
    "with open('./autoencoder_history.pkl', 'rb') as f:\n",
    "    data = pkl.load(f)"
   ]
  },
  {
   "cell_type": "code",
   "execution_count": 55,
   "metadata": {},
   "outputs": [
    {
     "data": {
      "image/png": "[encoded data removed]",
      "text/plain": [
       "<Figure size 864x432 with 2 Axes>"
      ]
     },
     "metadata": {
      "needs_background": "light"
     },
     "output_type": "display_data"
    }
   ],
   "source": [
    "plt.figure(figsize=(12, 6))\n",
    "plt.subplot(1, 2, 1)\n",
    "min_loss = min(data['loss'])\n",
    "min_val_loss = min(data['val_loss'])\n",
    "plt.plot(data['loss'], label='Training Error')\n",
    "plt.plot(data['val_loss'], label='Testing Error')\n",
    "plt.title(f'Training: {min_loss:.2f} & Testing Error:{min_val_loss:.2f}')\n",
    "plt.xlabel('Epoch')\n",
    "plt.ylabel('Error')\n",
    "plt.legend()\n",
    "\n",
    "max_r = max(data['r_squared'])\n",
    "max_val_r = max(data['val_r_squared'])\n",
    "plt.subplot(1, 2, 2)\n",
    "plt.plot(data['r_squared'], label='Training R^2 Score')\n",
    "plt.plot(data['val_r_squared'], label='Testing R^2 Score')\n",
    "plt.title(f'Training:{max_r:.2f} & Testing R^2 Score:{max_val_r:.2f}')\n",
    "plt.xlabel('Epoch')\n",
    "plt.ylabel('Error')\n",
    "plt.legend()\n",
    "\n",
    "plt.tight_layout()\n",
    "plt.show()"
   ]
  },
  {
   "cell_type": "code",
   "execution_count": null,
   "metadata": {},
   "outputs": [],
   "source": []
  },
  {
   "cell_type": "code",
   "execution_count": null,
   "metadata": {},
   "outputs": [],
   "source": []
  },
  {
   "cell_type": "code",
   "execution_count": 13,
   "metadata": {},
   "outputs": [
    {
     "name": "stdout",
     "output_type": "stream",
     "text": [
      "Autoencoder Model Saved...\n"
     ]
    }
   ],
   "source": [
    "save_model(autoencoder, './autoencoder_model.h5')\n",
    "print(\"Autoencoder Model Saved...\")"
   ]
  },
  {
   "cell_type": "code",
   "execution_count": 14,
   "metadata": {},
   "outputs": [],
   "source": [
    "#autoencoder = load_model('./autoencoder_model.h5')"
   ]
  },
  {
   "cell_type": "code",
   "execution_count": 15,
   "metadata": {},
   "outputs": [],
   "source": [
    "from keras.models import Model\n",
    "from keras.layers import Input, Conv1D, ELU, BatchNormalization, MaxPooling1D, LSTM, Dense, Softmax\n",
    "from keras.metrics import categorical_accuracy, Precision, Recall"
   ]
  },
  {
   "cell_type": "code",
   "execution_count": 16,
   "metadata": {},
   "outputs": [],
   "source": [
    "def unweighted_accuracy(y_true, y_pred):\n",
    "    true_positives = K.sum(K.round(K.clip(y_true * y_pred, 0, 1)), axis=0)\n",
    "    class_samples = K.sum(y_true, axis=0)\n",
    "    \n",
    "    unweighted_accuracy = K.sum(true_positives / K.maximum(class_samples, 1)) / K.sum(K.cast(class_samples > 0, 'float32'))\n",
    "    return unweighted_accuracy\n",
    "\n",
    "\n",
    "\n",
    "def weighted_accuracy(y_true, y_pred):\n",
    "    class_weights = K.sum(y_true, axis=0)  # Assuming one-hot encoded labels\n",
    "    true_positives = K.sum(K.round(K.clip(y_true * y_pred, 0, 1)), axis=0)\n",
    "    total_samples = K.sum(class_weights)\n",
    "    \n",
    "    weighted_accuracy = K.sum((true_positives / K.maximum(class_weights, 1)) * (class_weights / total_samples))\n",
    "    return weighted_accuracy"
   ]
  },
  {
   "cell_type": "code",
   "execution_count": 56,
   "metadata": {},
   "outputs": [
    {
     "name": "stdout",
     "output_type": "stream",
     "text": [
      "Model: \"classifier_model\"\n",
      "_________________________________________________________________\n",
      "Layer (type)                 Output Shape              Param #   \n",
      "=================================================================\n",
      "input_1 (InputLayer)         (None, 4000, 125)         0         \n",
      "_________________________________________________________________\n",
      "time_distributed_1 (TimeDist (None, 4000, 64)          8064      \n",
      "_________________________________________________________________\n",
      "time_distributed_2 (TimeDist (None, 4000, 64)          256       \n",
      "_________________________________________________________________\n",
      "time_distributed_3 (TimeDist (None, 4000, 64)          0         \n",
      "_________________________________________________________________\n",
      "time_distributed_4 (TimeDist (None, 4000, 16)          1040      \n",
      "_________________________________________________________________\n",
      "time_distributed_5 (TimeDist (None, 4000, 16)          64        \n",
      "_________________________________________________________________\n",
      "time_distributed_6 (TimeDist (None, 4000, 16)          0         \n",
      "_________________________________________________________________\n",
      "time_distributed_7 (TimeDist (None, 4000, 16)          272       \n",
      "_________________________________________________________________\n",
      "time_distributed_8 (TimeDist (None, 4000, 16)          64        \n",
      "_________________________________________________________________\n",
      "time_distributed_9 (TimeDist (None, 4000, 16)          0         \n",
      "_________________________________________________________________\n",
      "time_distributed_10 (TimeDis (None, 4000, 8)           136       \n",
      "_________________________________________________________________\n",
      "time_distributed_11 (TimeDis (None, 4000, 8)           32        \n",
      "_________________________________________________________________\n",
      "latent_space_out (TimeDistri (None, 4000, 8)           0         \n",
      "_________________________________________________________________\n",
      "conv1 (Conv1D)               (None, 4000, 128)         3200      \n",
      "_________________________________________________________________\n",
      "elu1 (ELU)                   (None, 4000, 128)         0         \n",
      "_________________________________________________________________\n",
      "time_distributed_25 (TimeDis (None, 4000, 128)         512       \n",
      "_________________________________________________________________\n",
      "maxpool1 (MaxPooling1D)      (None, 2000, 128)         0         \n",
      "_________________________________________________________________\n",
      "conv2 (Conv1D)               (None, 2000, 256)         98560     \n",
      "_________________________________________________________________\n",
      "elu2 (ELU)                   (None, 2000, 256)         0         \n",
      "_________________________________________________________________\n",
      "time_distributed_26 (TimeDis (None, 2000, 256)         1024      \n",
      "_________________________________________________________________\n",
      "maxpool2 (MaxPooling1D)      (None, 1000, 256)         0         \n",
      "_________________________________________________________________\n",
      "conv3 (Conv1D)               (None, 1000, 512)         393728    \n",
      "_________________________________________________________________\n",
      "elu3 (ELU)                   (None, 1000, 512)         0         \n",
      "_________________________________________________________________\n",
      "time_distributed_27 (TimeDis (None, 1000, 512)         2048      \n",
      "_________________________________________________________________\n",
      "maxpool3 (MaxPooling1D)      (None, 500, 512)          0         \n",
      "_________________________________________________________________\n",
      "lstm (LSTM)                  (None, 128)               328192    \n",
      "_________________________________________________________________\n",
      "dense1 (Dense)               (None, 128)               16512     \n",
      "_________________________________________________________________\n",
      "elu_dense1 (ELU)             (None, 128)               0         \n",
      "_________________________________________________________________\n",
      "batch_norm_dense1 (BatchNorm (None, 128)               512       \n",
      "_________________________________________________________________\n",
      "output (Dense)               (None, 8)                 1032      \n",
      "=================================================================\n",
      "Total params: 855,248\n",
      "Trainable params: 843,272\n",
      "Non-trainable params: 11,976\n",
      "_________________________________________________________________\n"
     ]
    }
   ],
   "source": [
    "# Assuming 'autoencoder' is your trained autoencoder model\n",
    "# Assuming 'latent_space_layer_name' is the name of the latent space layer in your autoencoder\n",
    "\n",
    "# Extracting the encoder part from the autoencoder model\n",
    "encoder_model = Model(inputs=autoencoder.input, outputs=autoencoder.get_layer(\"latent_space_out\").output, name='encoder_model')\n",
    "\n",
    "# Freeze the layers of the encoder during classification\n",
    "for layer in encoder_model.layers:\n",
    "    layer.trainable = False\n",
    "\n",
    "# Classifier architecture on top of the encoder\n",
    "classifier_input = encoder_model.output\n",
    "\n",
    "# Convolutional layers\n",
    "classifier_output = Conv1D(128, kernel_size=3, padding='same', name='conv1')(classifier_input)\n",
    "classifier_output = ELU(name='elu1')(classifier_output)\n",
    "classifier_output = TimeDistributed(BatchNormalization(name='batch_norm1'))(classifier_output)\n",
    "classifier_output = MaxPooling1D(pool_size=2, name='maxpool1')(classifier_output)\n",
    "\n",
    "classifier_output = Conv1D(256, kernel_size=3, padding='same', name='conv2')(classifier_output)\n",
    "classifier_output = ELU(name='elu2')(classifier_output)\n",
    "classifier_output = TimeDistributed(BatchNormalization(name='batch_norm2'))(classifier_output)\n",
    "classifier_output = MaxPooling1D(pool_size=2, name='maxpool2')(classifier_output)\n",
    "\n",
    "classifier_output = Conv1D(512, kernel_size=3, padding='same', name='conv3')(classifier_output)\n",
    "classifier_output = ELU(name='elu3')(classifier_output)\n",
    "classifier_output = TimeDistributed(BatchNormalization(name='batch_norm3'))(classifier_output)\n",
    "classifier_output = MaxPooling1D(pool_size=2, name='maxpool3')(classifier_output)\n",
    "\n",
    "# LSTM layer\n",
    "classifier_output = LSTM(128, name='lstm')(classifier_output)\n",
    "\n",
    "# Dense layers\n",
    "classifier_output = Dense(128, name='dense1')(classifier_output)\n",
    "classifier_output = ELU(name='elu_dense1')(classifier_output)\n",
    "classifier_output = BatchNormalization(name='batch_norm_dense1')(classifier_output)\n",
    "\n",
    "classifier_output = Dense(8, activation='softmax', name='output')(classifier_output)\n",
    "\n",
    "# Create the classifier model\n",
    "classifier_model = Model(inputs=encoder_model.input, outputs=classifier_output, name='classifier_model')\n",
    "\n",
    "# Compile the classifier model\n",
    "classifier_model.compile(optimizer=Adam(lr=0.0001), loss='categorical_crossentropy', metrics=['accuracy', weighted_accuracy, unweighted_accuracy])\n",
    "\n",
    "# Display the classifier model summary\n",
    "classifier_model.summary()\n"
   ]
  },
  {
   "cell_type": "code",
   "execution_count": 57,
   "metadata": {},
   "outputs": [
    {
     "name": "stdout",
     "output_type": "stream",
     "text": [
      "Train on 930 samples, validate on 348 samples\n",
      "Epoch 1/50\n",
      "930/930 [==============================] - 49s 53ms/step - loss: 2.1773 - accuracy: 0.2473 - weighted_accuracy: 0.0655 - unweighted_accuracy: 0.0719 - val_loss: 1.9991 - val_accuracy: 0.2414 - val_weighted_accuracy: 0.0000e+00 - val_unweighted_accuracy: 0.0000e+00\n",
      "Epoch 2/50\n",
      "930/930 [==============================] - 21s 23ms/step - loss: 1.6358 - accuracy: 0.4086 - weighted_accuracy: 0.1501 - unweighted_accuracy: 0.1603 - val_loss: 1.9718 - val_accuracy: 0.2471 - val_weighted_accuracy: 0.0000e+00 - val_unweighted_accuracy: 0.0000e+00\n",
      "Epoch 3/50\n",
      "930/930 [==============================] - 23s 25ms/step - loss: 1.4227 - accuracy: 0.5075 - weighted_accuracy: 0.2338 - unweighted_accuracy: 0.2484 - val_loss: 1.9747 - val_accuracy: 0.2414 - val_weighted_accuracy: 0.0052 - val_unweighted_accuracy: 0.0024\n",
      "Epoch 4/50\n",
      "930/930 [==============================] - 21s 22ms/step - loss: 1.3406 - accuracy: 0.5430 - weighted_accuracy: 0.2850 - unweighted_accuracy: 0.3055 - val_loss: 1.9803 - val_accuracy: 0.1897 - val_weighted_accuracy: 0.0104 - val_unweighted_accuracy: 0.0048\n",
      "Epoch 5/50\n",
      "930/930 [==============================] - 21s 22ms/step - loss: 1.2679 - accuracy: 0.5602 - weighted_accuracy: 0.3209 - unweighted_accuracy: 0.3554 - val_loss: 1.9885 - val_accuracy: 0.1839 - val_weighted_accuracy: 0.0365 - val_unweighted_accuracy: 0.0169\n",
      "Epoch 6/50\n",
      "930/930 [==============================] - 21s 22ms/step - loss: 1.2033 - accuracy: 0.5753 - weighted_accuracy: 0.3527 - unweighted_accuracy: 0.3952 - val_loss: 2.0164 - val_accuracy: 0.1753 - val_weighted_accuracy: 0.0417 - val_unweighted_accuracy: 0.0211\n",
      "Epoch 7/50\n",
      "930/930 [==============================] - 21s 22ms/step - loss: 1.1676 - accuracy: 0.6022 - weighted_accuracy: 0.3727 - unweighted_accuracy: 0.4133 - val_loss: 2.0425 - val_accuracy: 0.1810 - val_weighted_accuracy: 0.0417 - val_unweighted_accuracy: 0.0211\n",
      "Epoch 8/50\n",
      "930/930 [==============================] - 21s 23ms/step - loss: 1.1382 - accuracy: 0.6161 - weighted_accuracy: 0.3800 - unweighted_accuracy: 0.4307 - val_loss: 2.1026 - val_accuracy: 0.1782 - val_weighted_accuracy: 0.0469 - val_unweighted_accuracy: 0.0235\n",
      "Epoch 9/50\n",
      "930/930 [==============================] - 21s 22ms/step - loss: 1.0968 - accuracy: 0.6312 - weighted_accuracy: 0.3987 - unweighted_accuracy: 0.4261 - val_loss: 2.0925 - val_accuracy: 0.1954 - val_weighted_accuracy: 0.0521 - val_unweighted_accuracy: 0.0277\n",
      "Epoch 10/50\n",
      "930/930 [==============================] - 21s 22ms/step - loss: 1.0665 - accuracy: 0.6333 - weighted_accuracy: 0.4102 - unweighted_accuracy: 0.4600 - val_loss: 2.0951 - val_accuracy: 0.1839 - val_weighted_accuracy: 0.0729 - val_unweighted_accuracy: 0.0408\n",
      "Epoch 11/50\n",
      "930/930 [==============================] - 23s 25ms/step - loss: 1.0159 - accuracy: 0.6495 - weighted_accuracy: 0.4367 - unweighted_accuracy: 0.4666 - val_loss: 2.1110 - val_accuracy: 0.1897 - val_weighted_accuracy: 0.0729 - val_unweighted_accuracy: 0.0408\n",
      "Epoch 12/50\n",
      "930/930 [==============================] - 21s 22ms/step - loss: 1.0039 - accuracy: 0.6591 - weighted_accuracy: 0.4640 - unweighted_accuracy: 0.4953 - val_loss: 2.1307 - val_accuracy: 0.1897 - val_weighted_accuracy: 0.0677 - val_unweighted_accuracy: 0.0367\n",
      "Epoch 13/50\n",
      "930/930 [==============================] - 22s 23ms/step - loss: 0.9665 - accuracy: 0.6903 - weighted_accuracy: 0.4735 - unweighted_accuracy: 0.5020 - val_loss: 2.1346 - val_accuracy: 0.1810 - val_weighted_accuracy: 0.0781 - val_unweighted_accuracy: 0.0450\n",
      "Epoch 14/50\n",
      "930/930 [==============================] - 21s 23ms/step - loss: 0.9703 - accuracy: 0.6796 - weighted_accuracy: 0.4906 - unweighted_accuracy: 0.5230 - val_loss: 2.1379 - val_accuracy: 0.1839 - val_weighted_accuracy: 0.0547 - val_unweighted_accuracy: 0.0297\n",
      "Epoch 15/50\n",
      "930/930 [==============================] - 23s 25ms/step - loss: 0.9191 - accuracy: 0.6785 - weighted_accuracy: 0.5035 - unweighted_accuracy: 0.5285 - val_loss: 2.2792 - val_accuracy: 0.1379 - val_weighted_accuracy: 0.0469 - val_unweighted_accuracy: 0.0252\n",
      "Epoch 16/50\n",
      "930/930 [==============================] - 21s 22ms/step - loss: 0.8836 - accuracy: 0.7108 - weighted_accuracy: 0.5155 - unweighted_accuracy: 0.5416 - val_loss: 2.1355 - val_accuracy: 0.1695 - val_weighted_accuracy: 0.0573 - val_unweighted_accuracy: 0.0318\n",
      "Epoch 17/50\n",
      "930/930 [==============================] - 25s 26ms/step - loss: 0.8895 - accuracy: 0.6871 - weighted_accuracy: 0.5403 - unweighted_accuracy: 0.5697 - val_loss: 2.1548 - val_accuracy: 0.1494 - val_weighted_accuracy: 0.0573 - val_unweighted_accuracy: 0.0301\n",
      "Epoch 18/50\n",
      "930/930 [==============================] - 21s 23ms/step - loss: 0.8603 - accuracy: 0.7280 - weighted_accuracy: 0.5254 - unweighted_accuracy: 0.5493 - val_loss: 2.2361 - val_accuracy: 0.1753 - val_weighted_accuracy: 0.0703 - val_unweighted_accuracy: 0.0407\n",
      "Epoch 19/50\n",
      "930/930 [==============================] - 21s 23ms/step - loss: 0.8247 - accuracy: 0.7280 - weighted_accuracy: 0.5681 - unweighted_accuracy: 0.5894 - val_loss: 2.2901 - val_accuracy: 0.1667 - val_weighted_accuracy: 0.0729 - val_unweighted_accuracy: 0.0408\n",
      "Epoch 20/50\n",
      "930/930 [==============================] - 25s 27ms/step - loss: 0.8317 - accuracy: 0.7161 - weighted_accuracy: 0.5716 - unweighted_accuracy: 0.5932 - val_loss: 2.4293 - val_accuracy: 0.1897 - val_weighted_accuracy: 0.0885 - val_unweighted_accuracy: 0.0544\n",
      "Epoch 21/50\n",
      "930/930 [==============================] - 23s 24ms/step - loss: 0.8568 - accuracy: 0.7065 - weighted_accuracy: 0.5529 - unweighted_accuracy: 0.5794 - val_loss: 2.0947 - val_accuracy: 0.2443 - val_weighted_accuracy: 0.0807 - val_unweighted_accuracy: 0.0462\n",
      "Epoch 22/50\n",
      "930/930 [==============================] - 21s 22ms/step - loss: 0.7977 - accuracy: 0.7355 - weighted_accuracy: 0.5908 - unweighted_accuracy: 0.6139 - val_loss: 2.3112 - val_accuracy: 0.2098 - val_weighted_accuracy: 0.0911 - val_unweighted_accuracy: 0.0528\n",
      "Epoch 23/50\n",
      "930/930 [==============================] - 21s 23ms/step - loss: 0.7786 - accuracy: 0.7333 - weighted_accuracy: 0.5912 - unweighted_accuracy: 0.6233 - val_loss: 2.1224 - val_accuracy: 0.2500 - val_weighted_accuracy: 0.1116 - val_unweighted_accuracy: 0.0829\n",
      "Epoch 24/50\n",
      "930/930 [==============================] - 23s 25ms/step - loss: 0.7640 - accuracy: 0.7301 - weighted_accuracy: 0.6364 - unweighted_accuracy: 0.6488 - val_loss: 2.3422 - val_accuracy: 0.2069 - val_weighted_accuracy: 0.0938 - val_unweighted_accuracy: 0.0650\n",
      "Epoch 25/50\n",
      "930/930 [==============================] - 21s 23ms/step - loss: 0.7723 - accuracy: 0.7516 - weighted_accuracy: 0.6093 - unweighted_accuracy: 0.6334 - val_loss: 2.1218 - val_accuracy: 0.3276 - val_weighted_accuracy: 0.1116 - val_unweighted_accuracy: 0.0835\n",
      "Epoch 26/50\n",
      "930/930 [==============================] - 21s 23ms/step - loss: 0.7510 - accuracy: 0.7527 - weighted_accuracy: 0.6276 - unweighted_accuracy: 0.6388 - val_loss: 2.2417 - val_accuracy: 0.2385 - val_weighted_accuracy: 0.1168 - val_unweighted_accuracy: 0.0870\n",
      "Epoch 27/50\n",
      "930/930 [==============================] - 21s 23ms/step - loss: 0.7783 - accuracy: 0.7538 - weighted_accuracy: 0.6181 - unweighted_accuracy: 0.6429 - val_loss: 2.7062 - val_accuracy: 0.1753 - val_weighted_accuracy: 0.1120 - val_unweighted_accuracy: 0.0930\n",
      "Epoch 28/50\n",
      "930/930 [==============================] - 21s 23ms/step - loss: 0.7450 - accuracy: 0.7591 - weighted_accuracy: 0.6303 - unweighted_accuracy: 0.6389 - val_loss: 2.3691 - val_accuracy: 0.1897 - val_weighted_accuracy: 0.1276 - val_unweighted_accuracy: 0.0807\n",
      "Epoch 29/50\n",
      "930/930 [==============================] - 23s 24ms/step - loss: 0.7164 - accuracy: 0.7581 - weighted_accuracy: 0.6368 - unweighted_accuracy: 0.6566 - val_loss: 2.4752 - val_accuracy: 0.1897 - val_weighted_accuracy: 0.1109 - val_unweighted_accuracy: 0.0872\n",
      "Epoch 30/50\n",
      "930/930 [==============================] - 21s 23ms/step - loss: 0.6664 - accuracy: 0.7935 - weighted_accuracy: 0.6709 - unweighted_accuracy: 0.6793 - val_loss: 2.4487 - val_accuracy: 0.1868 - val_weighted_accuracy: 0.0952 - val_unweighted_accuracy: 0.0700\n",
      "Epoch 31/50\n"
     ]
    },
    {
     "name": "stdout",
     "output_type": "stream",
     "text": [
      "930/930 [==============================] - 21s 22ms/step - loss: 0.7300 - accuracy: 0.7634 - weighted_accuracy: 0.6599 - unweighted_accuracy: 0.6722 - val_loss: 2.4558 - val_accuracy: 0.2960 - val_weighted_accuracy: 0.1202 - val_unweighted_accuracy: 0.1026\n",
      "Epoch 32/50\n",
      "930/930 [==============================] - 21s 23ms/step - loss: 0.6883 - accuracy: 0.7656 - weighted_accuracy: 0.6401 - unweighted_accuracy: 0.6655 - val_loss: 2.5093 - val_accuracy: 0.2069 - val_weighted_accuracy: 0.1235 - val_unweighted_accuracy: 0.1163\n",
      "Epoch 33/50\n",
      "930/930 [==============================] - 21s 23ms/step - loss: 0.6725 - accuracy: 0.7796 - weighted_accuracy: 0.6865 - unweighted_accuracy: 0.6958 - val_loss: 2.9014 - val_accuracy: 0.1897 - val_weighted_accuracy: 0.1358 - val_unweighted_accuracy: 0.1343\n",
      "Epoch 34/50\n",
      "930/930 [==============================] - 21s 23ms/step - loss: 0.6498 - accuracy: 0.7828 - weighted_accuracy: 0.6746 - unweighted_accuracy: 0.6856 - val_loss: 2.6191 - val_accuracy: 0.3132 - val_weighted_accuracy: 0.2920 - val_unweighted_accuracy: 0.2457\n",
      "Epoch 35/50\n",
      "930/930 [==============================] - 21s 23ms/step - loss: 0.6326 - accuracy: 0.8000 - weighted_accuracy: 0.6819 - unweighted_accuracy: 0.7034 - val_loss: 2.7716 - val_accuracy: 0.2184 - val_weighted_accuracy: 0.1135 - val_unweighted_accuracy: 0.0996\n",
      "Epoch 36/50\n",
      "930/930 [==============================] - 25s 27ms/step - loss: 0.6389 - accuracy: 0.7882 - weighted_accuracy: 0.6835 - unweighted_accuracy: 0.7058 - val_loss: 2.5678 - val_accuracy: 0.2557 - val_weighted_accuracy: 0.1443 - val_unweighted_accuracy: 0.1177\n",
      "Epoch 37/50\n",
      "930/930 [==============================] - 22s 24ms/step - loss: 0.5855 - accuracy: 0.8086 - weighted_accuracy: 0.7064 - unweighted_accuracy: 0.7087 - val_loss: 2.5343 - val_accuracy: 0.2960 - val_weighted_accuracy: 0.1979 - val_unweighted_accuracy: 0.1613\n",
      "Epoch 38/50\n",
      "930/930 [==============================] - 23s 24ms/step - loss: 0.5872 - accuracy: 0.8075 - weighted_accuracy: 0.7158 - unweighted_accuracy: 0.7324 - val_loss: 2.8767 - val_accuracy: 0.2500 - val_weighted_accuracy: 0.1559 - val_unweighted_accuracy: 0.1433\n",
      "Epoch 39/50\n",
      "930/930 [==============================] - 23s 24ms/step - loss: 0.5758 - accuracy: 0.8054 - weighted_accuracy: 0.7096 - unweighted_accuracy: 0.7227 - val_loss: 3.1920 - val_accuracy: 0.2098 - val_weighted_accuracy: 0.1581 - val_unweighted_accuracy: 0.1482\n",
      "Epoch 40/50\n",
      "930/930 [==============================] - 22s 24ms/step - loss: 0.6019 - accuracy: 0.8108 - weighted_accuracy: 0.7257 - unweighted_accuracy: 0.7484 - val_loss: 3.6592 - val_accuracy: 0.1379 - val_weighted_accuracy: 0.1187 - val_unweighted_accuracy: 0.1285\n",
      "Epoch 41/50\n",
      "930/930 [==============================] - 21s 23ms/step - loss: 0.6048 - accuracy: 0.7957 - weighted_accuracy: 0.7253 - unweighted_accuracy: 0.7322 - val_loss: 3.4375 - val_accuracy: 0.2184 - val_weighted_accuracy: 0.1760 - val_unweighted_accuracy: 0.1558\n",
      "Epoch 42/50\n",
      "930/930 [==============================] - 21s 22ms/step - loss: 0.5802 - accuracy: 0.8108 - weighted_accuracy: 0.7119 - unweighted_accuracy: 0.7287 - val_loss: 3.0715 - val_accuracy: 0.1983 - val_weighted_accuracy: 0.1548 - val_unweighted_accuracy: 0.1266\n",
      "Epoch 43/50\n",
      "930/930 [==============================] - 21s 23ms/step - loss: 0.5588 - accuracy: 0.8194 - weighted_accuracy: 0.7275 - unweighted_accuracy: 0.7479 - val_loss: 2.8627 - val_accuracy: 0.2011 - val_weighted_accuracy: 0.1436 - val_unweighted_accuracy: 0.1251\n",
      "Epoch 44/50\n",
      "930/930 [==============================] - 23s 25ms/step - loss: 0.5607 - accuracy: 0.8129 - weighted_accuracy: 0.7230 - unweighted_accuracy: 0.7364 - val_loss: 3.0730 - val_accuracy: 0.1839 - val_weighted_accuracy: 0.1574 - val_unweighted_accuracy: 0.1491\n",
      "Epoch 45/50\n",
      "930/930 [==============================] - 24s 26ms/step - loss: 0.5494 - accuracy: 0.8226 - weighted_accuracy: 0.7487 - unweighted_accuracy: 0.7668 - val_loss: 2.8238 - val_accuracy: 0.2270 - val_weighted_accuracy: 0.1436 - val_unweighted_accuracy: 0.1182\n",
      "Epoch 46/50\n",
      "930/930 [==============================] - 25s 27ms/step - loss: 0.5570 - accuracy: 0.8140 - weighted_accuracy: 0.7296 - unweighted_accuracy: 0.7357 - val_loss: 3.4136 - val_accuracy: 0.1580 - val_weighted_accuracy: 0.1376 - val_unweighted_accuracy: 0.1509\n",
      "Epoch 47/50\n",
      "930/930 [==============================] - 21s 22ms/step - loss: 0.5351 - accuracy: 0.8226 - weighted_accuracy: 0.7365 - unweighted_accuracy: 0.7413 - val_loss: 2.9165 - val_accuracy: 0.2529 - val_weighted_accuracy: 0.1693 - val_unweighted_accuracy: 0.1582\n",
      "Epoch 48/50\n",
      "930/930 [==============================] - 21s 23ms/step - loss: 0.6143 - accuracy: 0.7925 - weighted_accuracy: 0.7295 - unweighted_accuracy: 0.7528 - val_loss: 3.7481 - val_accuracy: 0.3103 - val_weighted_accuracy: 0.3229 - val_unweighted_accuracy: 0.2752\n",
      "Epoch 49/50\n",
      "930/930 [==============================] - 21s 23ms/step - loss: 0.5628 - accuracy: 0.8161 - weighted_accuracy: 0.7366 - unweighted_accuracy: 0.7558 - val_loss: 3.3636 - val_accuracy: 0.1839 - val_weighted_accuracy: 0.1626 - val_unweighted_accuracy: 0.1623\n",
      "Epoch 50/50\n",
      "930/930 [==============================] - 23s 25ms/step - loss: 0.5421 - accuracy: 0.8376 - weighted_accuracy: 0.7471 - unweighted_accuracy: 0.7578 - val_loss: 3.7269 - val_accuracy: 0.1724 - val_weighted_accuracy: 0.1600 - val_unweighted_accuracy: 0.1674\n"
     ]
    }
   ],
   "source": [
    "# Train the final model\n",
    "history2 = classifier_model.fit(\n",
    "    x_train, y_train,\n",
    "    epochs=50,             \n",
    "    batch_size=64,        \n",
    "    shuffle=True,\n",
    "    validation_data=(x_test, y_test))\n"
   ]
  },
  {
   "cell_type": "code",
   "execution_count": 35,
   "metadata": {},
   "outputs": [],
   "source": [
    "with open('./classifier_history.pkl', 'wb') as file:\n",
    "    pkl.dump(history2.history, file)"
   ]
  },
  {
   "cell_type": "code",
   "execution_count": 36,
   "metadata": {},
   "outputs": [
    {
     "name": "stdout",
     "output_type": "stream",
     "text": [
      "classifier Model Saved...\n"
     ]
    }
   ],
   "source": [
    "save_model(classifier_model, './classifier_model.h5')\n",
    "print(\"classifier Model Saved...\")"
   ]
  },
  {
   "cell_type": "code",
   "execution_count": 37,
   "metadata": {},
   "outputs": [],
   "source": [
    "y_pred_train = classifier_model.predict(x_train)\n",
    "#y_pred_val = classifier_model.predict(x_val)\n",
    "y_pred_test = classifier_model.predict(x_test)"
   ]
  },
  {
   "cell_type": "code",
   "execution_count": 58,
   "metadata": {},
   "outputs": [],
   "source": [
    "y_pred_train_labels = np.argmax(y_pred_train, axis=1)\n",
    "#y_pred_val_labels = np.argmax(y_pred_val, axis=1)\n",
    "y_pred_test_labels = np.argmax(y_pred_test, axis=1)"
   ]
  },
  {
   "cell_type": "code",
   "execution_count": 59,
   "metadata": {},
   "outputs": [],
   "source": [
    "cm1 = confusion_matrix(np.argmax(y_train, axis=1), y_pred_train_labels)\n",
    "#cm2 = confusion_matrix(np.argmax(y_val, axis=1), y_pred_val_labels)\n",
    "cm3= confusion_matrix(np.argmax(y_test, axis=1), y_pred_test_labels)\n"
   ]
  },
  {
   "cell_type": "code",
   "execution_count": 60,
   "metadata": {},
   "outputs": [
    {
     "data": {
      "image/png": "[encoded data removed]",
      "text/plain": [
       "<Figure size 432x288 with 2 Axes>"
      ]
     },
     "metadata": {
      "needs_background": "light"
     },
     "output_type": "display_data"
    }
   ],
   "source": [
    "sns.heatmap(cm1, annot=True, fmt='d', xticklabels=labels, yticklabels=labels)\n",
    "plt.xlabel('Predicted')\n",
    "plt.ylabel('True')\n",
    "plt.show()"
   ]
  },
  {
   "cell_type": "code",
   "execution_count": 61,
   "metadata": {},
   "outputs": [
    {
     "data": {
      "image/png": "[encoded data removed]",
      "text/plain": [
       "<Figure size 432x288 with 2 Axes>"
      ]
     },
     "metadata": {
      "needs_background": "light"
     },
     "output_type": "display_data"
    }
   ],
   "source": [
    "sns.heatmap(cm3, annot=True, fmt='d', xticklabels=labels, yticklabels=labels)\n",
    "plt.xlabel('Predicted')\n",
    "plt.ylabel('True')\n",
    "plt.show()"
   ]
  },
  {
   "cell_type": "code",
   "execution_count": null,
   "metadata": {},
   "outputs": [],
   "source": []
  }
 ],
 "metadata": {
  "kernelspec": {
   "display_name": "tf",
   "language": "python",
   "name": "tf"
  },
  "language_info": {
   "codemirror_mode": {
    "name": "ipython",
    "version": 3
   },
   "file_extension": ".py",
   "mimetype": "text/x-python",
   "name": "python",
   "nbconvert_exporter": "python",
   "pygments_lexer": "ipython3",
   "version": "3.6.13"
  }
 },
 "nbformat": 4,
 "nbformat_minor": 2
}
